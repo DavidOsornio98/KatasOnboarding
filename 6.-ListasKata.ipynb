{
 "cells": [
  {
   "cell_type": "markdown",
   "metadata": {},
   "source": [
    "## Kata de Listas"
   ]
  },
  {
   "cell_type": "code",
   "execution_count": 2,
   "metadata": {},
   "outputs": [
    {
     "name": "stdout",
     "output_type": "stream",
     "text": [
      "En el sistema solar hay:  8  planetas\n"
     ]
    }
   ],
   "source": [
    "planets = ['Mercurio','Venus','Tierra','Marte','jupiter','Saturno','Urano','Neptuno']\n",
    "print('En el sistema solar hay: ', len(planets), ' planetas')"
   ]
  },
  {
   "cell_type": "code",
   "execution_count": 3,
   "metadata": {},
   "outputs": [
    {
     "name": "stdout",
     "output_type": "stream",
     "text": [
      "En el sistema solar hay:  9  planetas\n",
      "Pluton es el ultimo planeta\n"
     ]
    }
   ],
   "source": [
    "planets.append('Pluton')\n",
    "print('En el sistema solar hay: ', len(planets), ' planetas')\n",
    "print(planets[-1], 'es el ultimo planeta')"
   ]
  },
  {
   "cell_type": "markdown",
   "metadata": {},
   "source": [
    "## Ejercicio 2"
   ]
  },
  {
   "cell_type": "code",
   "execution_count": 4,
   "metadata": {},
   "outputs": [],
   "source": [
    "# Lista de planetas\n",
    "planets = ['Mercury', 'Venus', 'Earth', 'Mars', 'Jupiter', 'Saturn', 'Neptune']"
   ]
  },
  {
   "cell_type": "code",
   "execution_count": 6,
   "metadata": {},
   "outputs": [
    {
     "name": "stdout",
     "output_type": "stream",
     "text": [
      "Los planetas cercanos a tu planeta son:  ['Mercury']\n",
      "Los planetas mas alejados a tu planeta son:  ['Earth', 'Mars', 'Jupiter', 'Saturn']\n"
     ]
    }
   ],
   "source": [
    "planetaUsuario = input('Ingresa el nombre de un planeta. Escribe la primer letra en mayuscula')\n",
    "index = planets.index(planetaUsuario)\n",
    "print('Los planetas cercanos a tu planeta son: ',planets[0:index])\n",
    "print('Los planetas mas alejados a tu planeta son: ',planets[index+1:-1])"
   ]
  },
  {
   "cell_type": "code",
   "execution_count": null,
   "metadata": {},
   "outputs": [],
   "source": []
  }
 ],
 "metadata": {
  "interpreter": {
   "hash": "29d89e53d436c30d4395dec7055ce59f797cf3fe34ca1ee75f1833ae5eeba3a4"
  },
  "kernelspec": {
   "display_name": "Python 3.8.6 64-bit",
   "language": "python",
   "name": "python3"
  },
  "language_info": {
   "codemirror_mode": {
    "name": "ipython",
    "version": 3
   },
   "file_extension": ".py",
   "mimetype": "text/x-python",
   "name": "python",
   "nbconvert_exporter": "python",
   "pygments_lexer": "ipython3",
   "version": "3.8.6"
  },
  "orig_nbformat": 4
 },
 "nbformat": 4,
 "nbformat_minor": 2
}
