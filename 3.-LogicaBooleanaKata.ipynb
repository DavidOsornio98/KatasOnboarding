{
 "cells": [
  {
   "cell_type": "code",
   "execution_count": 6,
   "metadata": {},
   "outputs": [
    {
     "name": "stdout",
     "output_type": "stream",
     "text": [
      "Peligro por Asteroide!!!!\n"
     ]
    }
   ],
   "source": [
    "asteroide = 49\n",
    "if asteroide > 25:\n",
    "    print(\"Peligro por Asteroide!!!!\")\n",
    "else:\n",
    "    print(\"Todo bien, no hay ningun pekigro\")"
   ]
  },
  {
   "cell_type": "code",
   "execution_count": 5,
   "metadata": {},
   "outputs": [
    {
     "name": "stdout",
     "output_type": "stream",
     "text": [
      "Todo bien, no hay nada de observar :c\n"
     ]
    }
   ],
   "source": [
    "asteroide = 19\n",
    "if asteroide > 20:\n",
    "    print(\"Se aproxima un Asteroide, puedes ver su luz\")\n",
    "elif asteroide == 20:\n",
    "     print(\"Se aproxima un Asteroide, puedes ver su luz\")\n",
    "else:\n",
    "    print(\"Todo bien, no hay nada de observar :c\")"
   ]
  },
  {
   "cell_type": "code",
   "execution_count": 4,
   "metadata": {},
   "outputs": [
    {
     "name": "stdout",
     "output_type": "stream",
     "text": [
      "Peligrooo de impacto por asteroide!!!\n"
     ]
    }
   ],
   "source": [
    "velocidad = 26\n",
    "tamano = 26\n",
    "\n",
    "if velocidad > 25 and tamano > 25:\n",
    "    print(\"Peligrooo de impacto por asteroide!!!\")\n",
    "elif velocidad >= 20:\n",
    "    print(\"Mira la luz del asteroide\")\n",
    "elif tamano < 25:\n",
    "    print(\"Todo bien por aqui\")\n",
    "else:\n",
    "    print(\"Todo bien por aqui\")\n"
   ]
  },
  {
   "cell_type": "code",
   "execution_count": null,
   "metadata": {},
   "outputs": [],
   "source": []
  }
 ],
 "metadata": {
  "interpreter": {
   "hash": "29d89e53d436c30d4395dec7055ce59f797cf3fe34ca1ee75f1833ae5eeba3a4"
  },
  "kernelspec": {
   "display_name": "Python 3.8.8 64-bit",
   "language": "python",
   "name": "python3"
  },
  "language_info": {
   "codemirror_mode": {
    "name": "ipython",
    "version": 3
   },
   "file_extension": ".py",
   "mimetype": "text/x-python",
   "name": "python",
   "nbconvert_exporter": "python",
   "pygments_lexer": "ipython3",
   "version": "3.8.8"
  },
  "orig_nbformat": 4
 },
 "nbformat": 4,
 "nbformat_minor": 2
}
