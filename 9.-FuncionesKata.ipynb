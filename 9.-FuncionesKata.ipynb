{
 "cells": [
  {
   "cell_type": "markdown",
   "metadata": {},
   "source": [
    "## Kata de Funciones"
   ]
  },
  {
   "cell_type": "code",
   "execution_count": 3,
   "metadata": {},
   "outputs": [],
   "source": [
    "def tanques(tanque1, tanque2, tanque3):\n",
    "    promedio = (tanque1 + tanque2 + tanque3) / 3\n",
    "    return f\"Infome de los tanques, hay un promedio de: {promedio}%\""
   ]
  },
  {
   "cell_type": "code",
   "execution_count": 4,
   "metadata": {},
   "outputs": [
    {
     "name": "stdout",
     "output_type": "stream",
     "text": [
      "Infome de los tanques, hay un promedio de: 0.0%\n"
     ]
    }
   ],
   "source": [
    "print(tanques(0,0,0))"
   ]
  },
  {
   "cell_type": "code",
   "execution_count": 13,
   "metadata": {},
   "outputs": [],
   "source": [
    "def promedios(*tanques):\n",
    "    sumaTotal = sum(tanques)\n",
    "    totalElementos = len(tanques)\n",
    "    return sumaTotal/totalElementos"
   ]
  },
  {
   "cell_type": "code",
   "execution_count": 17,
   "metadata": {},
   "outputs": [],
   "source": [
    "def tanques(tanque1, tanque2, tanque3):\n",
    "    return f\"\"\"Infome:\n",
    "    Total Average: {promedios(tanque1,tanque2, tanque3)}%\n",
    "    tanque1: {tanque1}%\n",
    "    tanque2: {tanque2}%\n",
    "    tanque3: {tanque3}% \n",
    "    \"\"\""
   ]
  },
  {
   "cell_type": "code",
   "execution_count": 18,
   "metadata": {},
   "outputs": [
    {
     "data": {
      "text/plain": [
       "'Infome:\\n    Total Average: El promedio de los tanques es de: 63.333333333333336%\\n    Hay un total de 3 tanques\\n    Con una suma de 190%\\n    %\\n    tanque1: 50%\\n    tanque2: 60%\\n    tanque3: 80% \\n    '"
      ]
     },
     "execution_count": 18,
     "metadata": {},
     "output_type": "execute_result"
    }
   ],
   "source": [
    "tanques(50,60,80)"
   ]
  },
  {
   "cell_type": "markdown",
   "metadata": {},
   "source": [
    "## Ejercicio 2"
   ]
  },
  {
   "cell_type": "code",
   "execution_count": null,
   "metadata": {},
   "outputs": [],
   "source": []
  }
 ],
 "metadata": {
  "interpreter": {
   "hash": "29d89e53d436c30d4395dec7055ce59f797cf3fe34ca1ee75f1833ae5eeba3a4"
  },
  "kernelspec": {
   "display_name": "Python 3.8.6 64-bit",
   "language": "python",
   "name": "python3"
  },
  "language_info": {
   "codemirror_mode": {
    "name": "ipython",
    "version": 3
   },
   "file_extension": ".py",
   "mimetype": "text/x-python",
   "name": "python",
   "nbconvert_exporter": "python",
   "pygments_lexer": "ipython3",
   "version": "3.8.6"
  },
  "orig_nbformat": 4
 },
 "nbformat": 4,
 "nbformat_minor": 2
}
