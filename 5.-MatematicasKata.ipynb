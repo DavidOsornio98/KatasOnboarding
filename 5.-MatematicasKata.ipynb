{
 "cells": [
  {
   "cell_type": "markdown",
   "metadata": {},
   "source": [
    "## Kata para operaciones matematicas"
   ]
  },
  {
   "cell_type": "code",
   "execution_count": 6,
   "metadata": {},
   "outputs": [],
   "source": [
    "tierra = 149597870\n",
    "jupiter = 778547200"
   ]
  },
  {
   "cell_type": "code",
   "execution_count": 14,
   "metadata": {},
   "outputs": [
    {
     "name": "stdout",
     "output_type": "stream",
     "text": [
      "La distancia en KM es: 628949330\n",
      "La distancia en Millas es: 390577534\n"
     ]
    }
   ],
   "source": [
    "distanciaKm = jupiter - tierra\n",
    "distanciaMillas = distanciaKm * 0.621\n",
    "print('La distancia en KM es: ' + str(distanciaKm) + '\\n' + 'La distancia en Millas es: ' + str(round(distanciaMillas)))"
   ]
  },
  {
   "cell_type": "markdown",
   "metadata": {},
   "source": [
    "## Ejercicio 2"
   ]
  },
  {
   "cell_type": "code",
   "execution_count": 21,
   "metadata": {},
   "outputs": [],
   "source": [
    "planeta1 = input(\"Inserta la distancia al sol del planeta # 1\")\n",
    "planeta2 = input(\"Inserta la distancia al sol del planeta # 2\")"
   ]
  },
  {
   "cell_type": "code",
   "execution_count": 22,
   "metadata": {},
   "outputs": [],
   "source": [
    "planeta1 = int(planeta1)\n",
    "planeta2 = int(planeta2)"
   ]
  },
  {
   "cell_type": "code",
   "execution_count": 25,
   "metadata": {},
   "outputs": [
    {
     "name": "stdout",
     "output_type": "stream",
     "text": [
      "Distancia en Kilometros: 9995\n",
      "Distancia en Millas: 6207\n"
     ]
    }
   ],
   "source": [
    "distancia = planeta1 - planeta2\n",
    "distancia = abs(distancia)\n",
    "\n",
    "print('Distancia en Kilometros: ' + str(distancia) + '\\n' + 'Distancia en Millas: ' + str(round(distancia*0.621)))\n"
   ]
  },
  {
   "cell_type": "code",
   "execution_count": null,
   "metadata": {},
   "outputs": [],
   "source": []
  }
 ],
 "metadata": {
  "interpreter": {
   "hash": "29d89e53d436c30d4395dec7055ce59f797cf3fe34ca1ee75f1833ae5eeba3a4"
  },
  "kernelspec": {
   "display_name": "Python 3.8.8 64-bit",
   "language": "python",
   "name": "python3"
  },
  "language_info": {
   "name": "python",
   "version": "3.8.8"
  },
  "orig_nbformat": 4
 },
 "nbformat": 4,
 "nbformat_minor": 2
}
